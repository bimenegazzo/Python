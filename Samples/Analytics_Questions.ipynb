{
 "cells": [
  {
   "cell_type": "code",
   "execution_count": null,
   "id": "275da45c",
   "metadata": {},
   "outputs": [],
   "source": [
    "import pandas as pd\n",
    "import matplotlib.pyplot as plt\n",
    "import math\n",
    "import requests"
   ]
  },
  {
   "cell_type": "code",
   "execution_count": null,
   "id": "b425878c",
   "metadata": {},
   "outputs": [],
   "source": [
    "json = requests.get('https://volleypal.39-data.ru/get_objects/').json()\n",
    "data = pd.json_normalize(json,\"data\")\n",
    "shapes = data['shape'].unique()"
   ]
  },
  {
   "cell_type": "code",
   "execution_count": null,
   "id": "6d333f69",
   "metadata": {},
   "outputs": [],
   "source": [
    "def df_by_shape(df):\n",
    "    group = []\n",
    "    for i in shapes:\n",
    "        array = df[df['shape'] == i]\n",
    "        group.append(array)\n",
    "    return group"
   ]
  },
  {
   "cell_type": "code",
   "execution_count": null,
   "id": "d10fe349",
   "metadata": {},
   "outputs": [],
   "source": [
    "#q1      Draw a boxplot showing the area size distribution for each shape\n",
    "#answer  See below\n",
    "\n",
    "array = []\n",
    "\n",
    "for i in df_by_shape(data):\n",
    "    array.append(i['area'].values)\n",
    "\n",
    "fig, ax = plt.subplots()\n",
    "ax.set_title('Area Distribution for Shapes')\n",
    "ax.boxplot(array)\n",
    "ax.set_xticklabels(shapes)\n",
    "\n",
    "plt.show()"
   ]
  },
  {
   "cell_type": "code",
   "execution_count": null,
   "id": "c021a86e",
   "metadata": {},
   "outputs": [],
   "source": [
    "#q2      Calculate the mean, max, and standard deviation of the area size of each color\n",
    "#answer  See below\n",
    "\n",
    "for i in df_by_shape(data):\n",
    "    mean = i['area'].mean()\n",
    "    max = i['area'].max()\n",
    "    std = i['area'].std()\n",
    "    shape = i['shape'].unique()\n",
    "    print(shape[0],':', 'mean: ', round(mean),', max: ', round(max),', std: ', round(std),)"
   ]
  },
  {
   "cell_type": "code",
   "execution_count": null,
   "id": "712eda3c",
   "metadata": {},
   "outputs": [],
   "source": [
    "#q3      What is the average area size of a yellow square?\n",
    "#answer  See below\n",
    "\n",
    "q3 = data[(data['color'] == 'yellow') & (data['shape'] == 'square')]\n",
    "print('average area of a yellow square:', round(q3['area'].mean()))"
   ]
  },
  {
   "cell_type": "code",
   "execution_count": null,
   "id": "8bac4435",
   "metadata": {},
   "outputs": [],
   "source": [
    "#q4      Which shape is most likely to be green?\n",
    "#answer  A circle. There's a 72.4% chance a green shape will be a circle\n",
    "\n",
    "q4 = data[data['color'] == 'green']\n",
    "answer = q4.groupby(by=['shape'], as_index=0).sum()\n",
    "answer['perc'] = (answer['area'] / answer['area'].sum()) * 100\n",
    "answer.sort_values(by='perc', ascending=False)\n",
    "answer['perc'] = round(answer['perc'], 1)\n",
    "answer"
   ]
  },
  {
   "cell_type": "code",
   "execution_count": null,
   "id": "b43f7e50",
   "metadata": {},
   "outputs": [],
   "source": [
    "#q5      Given that the object is red, with an area size larger than 3,000 - what are the chances the object is a square? a triangle? a circle?\n",
    "#answer  There's a 15.2% chance the object will be a square, 44.4% chance of it being a triangle, and 40.4% chance of it being a circle\n",
    "\n",
    "q5 = data[(data['color'] == 'red') & (data['area'] > 3000)]\n",
    "answer = q5.groupby(by=['shape'], as_index=0).sum()\n",
    "answer['perc'] = (answer['area'] / answer['area'].sum()) * 100\n",
    "answer = answer.sort_values(by='perc', ascending=False)\n",
    "answer['perc'] = round(answer['perc'], 1)\n",
    "answer"
   ]
  },
  {
   "cell_type": "code",
   "execution_count": null,
   "id": "5e6fb1f2",
   "metadata": {},
   "outputs": [],
   "source": [
    "#q6      Write a function that calculates the side or radius of an object, depending on the shape and area of the object\n",
    "#q7      Add a column to the dataset called \"side\" that shows the size matching the area in each row, round that number to the closest integer (shape side or radius).\n",
    "#answer  See below\n",
    "\n",
    "def calc_side(df):\n",
    "    \n",
    "    #df['side'] = df['side'].astype(float)\n",
    "    \n",
    "    df.loc[df['shape']=='circle','side'] = df['area'] / (2*math.pi)\n",
    "    df.loc[df['shape']=='triangle','side'] = df['area'] / 3\n",
    "    df.loc[df['shape']=='square','side'] = df['area'] / 4\n",
    "    df['side'] = df['side'].round(decimals = 0)\n",
    "    \n",
    "    #the below commented out formulas are what I wanted to but could not execute for triangles and squares\n",
    "    #df.loc[df['shape']=='triangle','side'] = math.sqrt( ( math.sqrt(3)/4 ) * df['area'] )\n",
    "    #df.loc[df['shape']=='square','side'] = math.sqrt( df['area'] / 4 ) * 4\n",
    "    \n",
    "    return df.head(5)\n",
    "\n",
    "calc_side(data)"
   ]
  },
  {
   "cell_type": "code",
   "execution_count": null,
   "id": "129662ec",
   "metadata": {},
   "outputs": [],
   "source": [
    "#q8      Draw a boxplot showing the side size distribution for each shape - what can you infer from this plot?\n",
    "#answer  The typical radius of a circle is larger than the side of a square or triangle \n",
    "\n",
    "array = []\n",
    "\n",
    "for i in df_by_shape(data):\n",
    "    array.append(i['side'].values)\n",
    "\n",
    "fig, ax = plt.subplots()\n",
    "ax.set_title('Side Size Distribution for Shapes')\n",
    "ax.boxplot(array)\n",
    "ax.set_xticklabels(shapes)\n",
    "\n",
    "plt.show()"
   ]
  },
  {
   "cell_type": "code",
   "execution_count": null,
   "id": "80afb401",
   "metadata": {},
   "outputs": [],
   "source": [
    "#q9      Make a scatter plot with \"side\" on the x-axis, \"area\" on the y axis with a different color for each shape.\n",
    "#answer  See below\n",
    "\n",
    "for i in df_by_shape(data):\n",
    "    x = []\n",
    "    y = []\n",
    "    shape = i['shape'].unique()\n",
    "    x.append(i['side'].values)\n",
    "    y.append(i['area'].values)\n",
    "    plt.scatter(x, y,label=shape)\n",
    "\n",
    "plt.xlabel(\"area\")\n",
    "plt.ylabel(\"side\")\n",
    "plt.legend(loc='upper left')\n",
    "plt.show()"
   ]
  },
  {
   "cell_type": "code",
   "execution_count": null,
   "id": "5c24e3b4",
   "metadata": {},
   "outputs": [],
   "source": [
    "#q10     Create a data frame, table, or list that show for each shape:\n",
    "    #a.      The proportion of red objects within the shape\n",
    "    #b.      The proportion of blue area out of the shape's total area (sum of blue sizes of a shape divided by the total size of a shape)\n",
    "#q11     Create a function that calculates 10. b. for a given shape and color\n",
    "#answer  See below\n",
    "\n",
    "def function_q10(df):\n",
    "    for i in shapes:\n",
    "        array = df[df['shape'] == i]\n",
    "        array = array.groupby(by=['color'], as_index=0).agg({'area': ['count', 'sum']})\n",
    "        array.columns = array.columns.droplevel()\n",
    "        array.columns = ['color', 'count', 'area']\n",
    "        array['perc_area'] = array['area'] / array['area'].sum()\n",
    "        array['perc_area'] = round(array['perc_area'], 2)\n",
    "        array['shape'] = i            \n",
    "        print(array,'\\n')\n",
    "\n",
    "function_q10(data)"
   ]
  },
  {
   "cell_type": "code",
   "execution_count": null,
   "id": "c7e1f165",
   "metadata": {},
   "outputs": [],
   "source": []
  }
 ],
 "metadata": {
  "kernelspec": {
   "display_name": "Python 3 (ipykernel)",
   "language": "python",
   "name": "python3"
  },
  "language_info": {
   "codemirror_mode": {
    "name": "ipython",
    "version": 3
   },
   "file_extension": ".py",
   "mimetype": "text/x-python",
   "name": "python",
   "nbconvert_exporter": "python",
   "pygments_lexer": "ipython3",
   "version": "3.9.7"
  }
 },
 "nbformat": 4,
 "nbformat_minor": 5
}
