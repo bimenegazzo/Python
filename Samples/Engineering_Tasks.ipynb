{
 "cells": [
  {
   "cell_type": "code",
   "execution_count": null,
   "id": "636adb65",
   "metadata": {},
   "outputs": [],
   "source": [
    "import pandas as pd\n",
    "import requests\n",
    "import mysql.connector"
   ]
  },
  {
   "cell_type": "code",
   "execution_count": null,
   "id": "62055d2f",
   "metadata": {},
   "outputs": [],
   "source": [
    "json = requests.get('https://volleypal.39-data.ru/get_objects/').json()\n",
    "data = pd.json_normalize(json,\"data\")\n",
    "data.head(1)"
   ]
  },
  {
   "cell_type": "code",
   "execution_count": null,
   "id": "1c0269d4",
   "metadata": {},
   "outputs": [],
   "source": [
    "mydb = mysql.connector.connect(\n",
    "   user='test_user', password='test_user', host='68.198.26.23', port='3306', database='test_schema'\n",
    ")\n",
    "mycursor = mydb.cursor()"
   ]
  },
  {
   "cell_type": "code",
   "execution_count": null,
   "id": "1a931074",
   "metadata": {},
   "outputs": [],
   "source": [
    "if (mydb.is_connected()):\n",
    "    print(\"Connected\")\n",
    "else:\n",
    "    print(\"Not connected\")"
   ]
  },
  {
   "cell_type": "code",
   "execution_count": null,
   "id": "6fc7f03f",
   "metadata": {},
   "outputs": [],
   "source": [
    "#delete table\n",
    "drop = \"DROP TABLE test_table\"\n",
    "mycursor.execute(drop)"
   ]
  },
  {
   "cell_type": "code",
   "execution_count": null,
   "id": "ec205535",
   "metadata": {},
   "outputs": [],
   "source": [
    "mycursor.execute(\"SHOW TABLES\")\n",
    "\n",
    "for x in mycursor:\n",
    "  print(x)"
   ]
  },
  {
   "cell_type": "code",
   "execution_count": null,
   "id": "f9255896",
   "metadata": {},
   "outputs": [],
   "source": [
    "#create table\n",
    "mycursor = mydb.cursor()\n",
    "mycursor.execute(\"CREATE TABLE test_table( shape VARCHAR(256), color VARCHAR(256), area NUMERIC )\")"
   ]
  },
  {
   "cell_type": "code",
   "execution_count": null,
   "id": "0300b5ee",
   "metadata": {},
   "outputs": [],
   "source": [
    "mycursor.execute(\"SHOW TABLES\")\n",
    "\n",
    "for x in mycursor:\n",
    "  print(x)"
   ]
  },
  {
   "cell_type": "code",
   "execution_count": null,
   "id": "b807a4da",
   "metadata": {},
   "outputs": [],
   "source": [
    "# creating column list for insertion\n",
    "cols = \"`,`\".join([str(i) for i in data.columns.tolist()])\n",
    "\n",
    "# Insert DataFrame recrds one by one.\n",
    "for i, row in data.iterrows():\n",
    "    sql = \"INSERT INTO `test_table` (`\" +cols + \"`) VALUES (\" + \"%s,\"*(len(row)-1) + \"%s)\"\n",
    "    mycursor.execute(sql, tuple(row))"
   ]
  },
  {
   "cell_type": "code",
   "execution_count": null,
   "id": "d18dbed9",
   "metadata": {},
   "outputs": [],
   "source": [
    "#delete table\n",
    "drop = \"DROP TABLE test_table\"\n",
    "mycursor.execute(drop)"
   ]
  }
 ],
 "metadata": {
  "kernelspec": {
   "display_name": "Python 3 (ipykernel)",
   "language": "python",
   "name": "python3"
  },
  "language_info": {
   "codemirror_mode": {
    "name": "ipython",
    "version": 3
   },
   "file_extension": ".py",
   "mimetype": "text/x-python",
   "name": "python",
   "nbconvert_exporter": "python",
   "pygments_lexer": "ipython3",
   "version": "3.9.7"
  }
 },
 "nbformat": 4,
 "nbformat_minor": 5
}
